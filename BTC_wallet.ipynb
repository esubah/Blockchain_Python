{
 "cells": [
  {
   "cell_type": "code",
   "execution_count": 1,
   "metadata": {},
   "outputs": [
    {
     "data": {
      "text/plain": [
       "True"
      ]
     },
     "execution_count": 1,
     "metadata": {},
     "output_type": "execute_result"
    }
   ],
   "source": [
    "import json\n",
    "import subprocess\n",
    "from dotenv import load_dotenv\n",
    "import os\n",
    "from bipwallet import wallet\n",
    "from bit.network import NetworkAPI\n",
    "from constants import *\n",
    "from eth_account import Account\n",
    "from web3 import Web3\n",
    "from bit import PrivateKeyTestnet\n",
    "from web3.gas_strategies.time_based import medium_gas_price_strategy\n",
    "from web3.middleware import geth_poa_middleware\n",
    "\n",
    "load_dotenv()"
   ]
  },
  {
   "cell_type": "code",
   "execution_count": 2,
   "metadata": {},
   "outputs": [],
   "source": [
    "# mac users do this\n",
    "# command = './derive -g --mnemonic=\"im --cols=path,address,privkey,pubkey --format=json'"
   ]
  },
  {
   "cell_type": "code",
   "execution_count": 3,
   "metadata": {},
   "outputs": [],
   "source": [
    "m_key = os.getenv(\"mnemonic_key\")"
   ]
  },
  {
   "cell_type": "code",
   "execution_count": 4,
   "metadata": {},
   "outputs": [
    {
     "name": "stdout",
     "output_type": "stream",
     "text": [
      "liquid behind install despair party orange response caution digital ten hedgehog rich\n"
     ]
    }
   ],
   "source": [
    "print(m_key)"
   ]
  },
  {
   "cell_type": "code",
   "execution_count": 5,
   "metadata": {},
   "outputs": [
    {
     "data": {
      "text/plain": [
       "[{'path': \"m/44'/0'/0'/0/0\",\n",
       "  'address': '1H9WSzsWVF458QH1HK9PgTKPYcmh2SmL6G',\n",
       "  'privkey': 'L2oiQ5w6Y6Hn1fesWQYtY1w7UQTyQT7EwRMsxohb7bLk1j3h3399',\n",
       "  'pubkey': '0328c1d4d6f9ea1027d7a0ee8b42a6af2b40a7b8e6e55170e71034a41218a8e131'},\n",
       " {'path': \"m/44'/0'/0'/0/1\",\n",
       "  'address': '17n5sNVdhmgkeGBTKbRHecp2aXMT1xMdc3',\n",
       "  'privkey': 'L1eVc1gtvqvb7qR1k7xzpmTVPDabY4KxdrkkUpnSj56WmCBnWWSb',\n",
       "  'pubkey': '0387c1121ae8015256a107388e747ecbaa3ef6dca9b5416f4d88d5a3c9c3c38106'},\n",
       " {'path': \"m/44'/0'/0'/0/2\",\n",
       "  'address': '1CKUQcSKXKJ6tsL8xmcBVQJQbUpXXBgCmT',\n",
       "  'privkey': 'L2o7M9rogBpuxhURADd9tVmSzFH7dMyBcd7ufMgfso6CYjo7Pz8N',\n",
       "  'pubkey': '021c9e57a5f7988e72768eb5151eb1cbb8d25b4f8dacffd90c75817804074c72c9'},\n",
       " {'path': \"m/44'/0'/0'/0/3\",\n",
       "  'address': '1BS8bPRJ8N8MBFGXFrni6SoSAdkvVQLaH9',\n",
       "  'privkey': 'L44x5kvWWT8uwA7KduLC1WM3fHmkkyzSkomBGky3pdSwo8n94AYC',\n",
       "  'pubkey': '02d709e2036b1b65af40bba944762a876f608fd62897ad1f6491ad556979075b98'},\n",
       " {'path': \"m/44'/0'/0'/0/4\",\n",
       "  'address': '14B9ab9VrvoqecqqZBp6zxqzRB3uAEdQRA',\n",
       "  'privkey': 'L5cGWRgKkbYfc1QNPMw413rVoTxBKXJEzKXQcRQ2BKwiAAuozYmH',\n",
       "  'pubkey': '038994775d282587e7af61692e4c94a26aa1d0bd7fb36206db1d463083241bdb14'},\n",
       " {'path': \"m/44'/0'/0'/0/5\",\n",
       "  'address': '1EKuENukVSNjeaSkNWHYTX8rjbHMj7tjV9',\n",
       "  'privkey': 'L1Ty8HiKUsMYStwgc1HpuEgExVV3Zg99vysnpkw5V3sUZH2BcfwF',\n",
       "  'pubkey': '03618719693e57f0e13529cf4a069eb48098317123cfb26709382dec4766548951'},\n",
       " {'path': \"m/44'/0'/0'/0/6\",\n",
       "  'address': '1P4qTYfWR5pBcgRmdagnA7UKfVJEZZ4C1k',\n",
       "  'privkey': 'KwW2J1SVLvPiMX1yo7ihyFX64xq28EwEc1JF54Ngvw14vUs8swe8',\n",
       "  'pubkey': '0265d1ac86c6421544746dd1e6463dea983509b7bc73e06c6f9222cb155e616f14'},\n",
       " {'path': \"m/44'/0'/0'/0/7\",\n",
       "  'address': '1KtGxkMBCr6Xzpb4Pz91PhWisUtFyvbsm3',\n",
       "  'privkey': 'KxDvEgBbWeRrP5YP9FCkYG6txWr4tPu9UmCmwTQEzRLjyvhuXWne',\n",
       "  'pubkey': '036c0a37bb564703ec4ccb81df9f8d67d257ed294a68ec5c8b5cc8656f821820a6'},\n",
       " {'path': \"m/44'/0'/0'/0/8\",\n",
       "  'address': '13iaFHGnPyW4tFeE68bgummxqZYXWtiutA',\n",
       "  'privkey': 'KyXVvGwDE2ZRNmabx7Z7op8xyoNQDygYzGBZQVnZixMUva3DTirp',\n",
       "  'pubkey': '02ca5bf1922de8bdbf4f88480fa8260b404f1d9698a55132b33efef80e5a6e8838'},\n",
       " {'path': \"m/44'/0'/0'/0/9\",\n",
       "  'address': '18r3uGXFtJz5rehJy6FKjnUS6CL7ArNXB7',\n",
       "  'privkey': 'KxBvr9m2Lik8Mvgx6pCi45MtEZSMLNXUmgVUCvbEQH5mVCo2fWPp',\n",
       "  'pubkey': '0228515a6517886c88b4342cd575f2759af8f475262a288d67f3152a92c77fb023'}]"
      ]
     },
     "execution_count": 5,
     "metadata": {},
     "output_type": "execute_result"
    }
   ],
   "source": [
    "# pc users do this\n",
    "command = f'php ./derive -g --mnemonic=\"{m_key}\" --cols=path,address,privkey,pubkey --format=json'\n",
    "p = subprocess.Popen(command, stdout=subprocess.PIPE, shell=True)\n",
    "(output, err) = p.communicate()\n",
    "p_status = p.wait()\n",
    "keys = json.loads(output)\n",
    "keys"
   ]
  },
  {
   "cell_type": "code",
   "execution_count": 6,
   "metadata": {},
   "outputs": [
    {
     "name": "stdout",
     "output_type": "stream",
     "text": [
      "1H9WSzsWVF458QH1HK9PgTKPYcmh2SmL6G\n"
     ]
    }
   ],
   "source": [
    "print(keys[0]['address'])"
   ]
  },
  {
   "cell_type": "code",
   "execution_count": 7,
   "metadata": {},
   "outputs": [
    {
     "data": {
      "text/plain": [
       "0"
      ]
     },
     "execution_count": 7,
     "metadata": {},
     "output_type": "execute_result"
    }
   ],
   "source": [
    "p_status"
   ]
  },
  {
   "cell_type": "code",
   "execution_count": 8,
   "metadata": {},
   "outputs": [
    {
     "name": "stdout",
     "output_type": "stream",
     "text": [
      "b'\\n[{\"path\":\"m\\\\/44\\'\\\\/0\\'\\\\/0\\'\\\\/0\\\\/0\",\"address\":\"1H9WSzsWVF458QH1HK9PgTKPYcmh2SmL6G\",\"privkey\":\"L2oiQ5w6Y6Hn1fesWQYtY1w7UQTyQT7EwRMsxohb7bLk1j3h3399\",\"pubkey\":\"0328c1d4d6f9ea1027d7a0ee8b42a6af2b40a7b8e6e55170e71034a41218a8e131\"},{\"path\":\"m\\\\/44\\'\\\\/0\\'\\\\/0\\'\\\\/0\\\\/1\",\"address\":\"17n5sNVdhmgkeGBTKbRHecp2aXMT1xMdc3\",\"privkey\":\"L1eVc1gtvqvb7qR1k7xzpmTVPDabY4KxdrkkUpnSj56WmCBnWWSb\",\"pubkey\":\"0387c1121ae8015256a107388e747ecbaa3ef6dca9b5416f4d88d5a3c9c3c38106\"},{\"path\":\"m\\\\/44\\'\\\\/0\\'\\\\/0\\'\\\\/0\\\\/2\",\"address\":\"1CKUQcSKXKJ6tsL8xmcBVQJQbUpXXBgCmT\",\"privkey\":\"L2o7M9rogBpuxhURADd9tVmSzFH7dMyBcd7ufMgfso6CYjo7Pz8N\",\"pubkey\":\"021c9e57a5f7988e72768eb5151eb1cbb8d25b4f8dacffd90c75817804074c72c9\"},{\"path\":\"m\\\\/44\\'\\\\/0\\'\\\\/0\\'\\\\/0\\\\/3\",\"address\":\"1BS8bPRJ8N8MBFGXFrni6SoSAdkvVQLaH9\",\"privkey\":\"L44x5kvWWT8uwA7KduLC1WM3fHmkkyzSkomBGky3pdSwo8n94AYC\",\"pubkey\":\"02d709e2036b1b65af40bba944762a876f608fd62897ad1f6491ad556979075b98\"},{\"path\":\"m\\\\/44\\'\\\\/0\\'\\\\/0\\'\\\\/0\\\\/4\",\"address\":\"14B9ab9VrvoqecqqZBp6zxqzRB3uAEdQRA\",\"privkey\":\"L5cGWRgKkbYfc1QNPMw413rVoTxBKXJEzKXQcRQ2BKwiAAuozYmH\",\"pubkey\":\"038994775d282587e7af61692e4c94a26aa1d0bd7fb36206db1d463083241bdb14\"},{\"path\":\"m\\\\/44\\'\\\\/0\\'\\\\/0\\'\\\\/0\\\\/5\",\"address\":\"1EKuENukVSNjeaSkNWHYTX8rjbHMj7tjV9\",\"privkey\":\"L1Ty8HiKUsMYStwgc1HpuEgExVV3Zg99vysnpkw5V3sUZH2BcfwF\",\"pubkey\":\"03618719693e57f0e13529cf4a069eb48098317123cfb26709382dec4766548951\"},{\"path\":\"m\\\\/44\\'\\\\/0\\'\\\\/0\\'\\\\/0\\\\/6\",\"address\":\"1P4qTYfWR5pBcgRmdagnA7UKfVJEZZ4C1k\",\"privkey\":\"KwW2J1SVLvPiMX1yo7ihyFX64xq28EwEc1JF54Ngvw14vUs8swe8\",\"pubkey\":\"0265d1ac86c6421544746dd1e6463dea983509b7bc73e06c6f9222cb155e616f14\"},{\"path\":\"m\\\\/44\\'\\\\/0\\'\\\\/0\\'\\\\/0\\\\/7\",\"address\":\"1KtGxkMBCr6Xzpb4Pz91PhWisUtFyvbsm3\",\"privkey\":\"KxDvEgBbWeRrP5YP9FCkYG6txWr4tPu9UmCmwTQEzRLjyvhuXWne\",\"pubkey\":\"036c0a37bb564703ec4ccb81df9f8d67d257ed294a68ec5c8b5cc8656f821820a6\"},{\"path\":\"m\\\\/44\\'\\\\/0\\'\\\\/0\\'\\\\/0\\\\/8\",\"address\":\"13iaFHGnPyW4tFeE68bgummxqZYXWtiutA\",\"privkey\":\"KyXVvGwDE2ZRNmabx7Z7op8xyoNQDygYzGBZQVnZixMUva3DTirp\",\"pubkey\":\"02ca5bf1922de8bdbf4f88480fa8260b404f1d9698a55132b33efef80e5a6e8838\"},{\"path\":\"m\\\\/44\\'\\\\/0\\'\\\\/0\\'\\\\/0\\\\/9\",\"address\":\"18r3uGXFtJz5rehJy6FKjnUS6CL7ArNXB7\",\"privkey\":\"KxBvr9m2Lik8Mvgx6pCi45MtEZSMLNXUmgVUCvbEQH5mVCo2fWPp\",\"pubkey\":\"0228515a6517886c88b4342cd575f2759af8f475262a288d67f3152a92c77fb023\"}]'\n"
     ]
    }
   ],
   "source": [
    "print(output)"
   ]
  },
  {
   "cell_type": "code",
   "execution_count": 9,
   "metadata": {},
   "outputs": [
    {
     "data": {
      "text/plain": [
       "[{'path': \"m/44'/0'/0'/0/0\",\n",
       "  'address': '1H9WSzsWVF458QH1HK9PgTKPYcmh2SmL6G',\n",
       "  'privkey': 'L2oiQ5w6Y6Hn1fesWQYtY1w7UQTyQT7EwRMsxohb7bLk1j3h3399',\n",
       "  'pubkey': '0328c1d4d6f9ea1027d7a0ee8b42a6af2b40a7b8e6e55170e71034a41218a8e131'},\n",
       " {'path': \"m/44'/0'/0'/0/1\",\n",
       "  'address': '17n5sNVdhmgkeGBTKbRHecp2aXMT1xMdc3',\n",
       "  'privkey': 'L1eVc1gtvqvb7qR1k7xzpmTVPDabY4KxdrkkUpnSj56WmCBnWWSb',\n",
       "  'pubkey': '0387c1121ae8015256a107388e747ecbaa3ef6dca9b5416f4d88d5a3c9c3c38106'},\n",
       " {'path': \"m/44'/0'/0'/0/2\",\n",
       "  'address': '1CKUQcSKXKJ6tsL8xmcBVQJQbUpXXBgCmT',\n",
       "  'privkey': 'L2o7M9rogBpuxhURADd9tVmSzFH7dMyBcd7ufMgfso6CYjo7Pz8N',\n",
       "  'pubkey': '021c9e57a5f7988e72768eb5151eb1cbb8d25b4f8dacffd90c75817804074c72c9'},\n",
       " {'path': \"m/44'/0'/0'/0/3\",\n",
       "  'address': '1BS8bPRJ8N8MBFGXFrni6SoSAdkvVQLaH9',\n",
       "  'privkey': 'L44x5kvWWT8uwA7KduLC1WM3fHmkkyzSkomBGky3pdSwo8n94AYC',\n",
       "  'pubkey': '02d709e2036b1b65af40bba944762a876f608fd62897ad1f6491ad556979075b98'},\n",
       " {'path': \"m/44'/0'/0'/0/4\",\n",
       "  'address': '14B9ab9VrvoqecqqZBp6zxqzRB3uAEdQRA',\n",
       "  'privkey': 'L5cGWRgKkbYfc1QNPMw413rVoTxBKXJEzKXQcRQ2BKwiAAuozYmH',\n",
       "  'pubkey': '038994775d282587e7af61692e4c94a26aa1d0bd7fb36206db1d463083241bdb14'},\n",
       " {'path': \"m/44'/0'/0'/0/5\",\n",
       "  'address': '1EKuENukVSNjeaSkNWHYTX8rjbHMj7tjV9',\n",
       "  'privkey': 'L1Ty8HiKUsMYStwgc1HpuEgExVV3Zg99vysnpkw5V3sUZH2BcfwF',\n",
       "  'pubkey': '03618719693e57f0e13529cf4a069eb48098317123cfb26709382dec4766548951'},\n",
       " {'path': \"m/44'/0'/0'/0/6\",\n",
       "  'address': '1P4qTYfWR5pBcgRmdagnA7UKfVJEZZ4C1k',\n",
       "  'privkey': 'KwW2J1SVLvPiMX1yo7ihyFX64xq28EwEc1JF54Ngvw14vUs8swe8',\n",
       "  'pubkey': '0265d1ac86c6421544746dd1e6463dea983509b7bc73e06c6f9222cb155e616f14'},\n",
       " {'path': \"m/44'/0'/0'/0/7\",\n",
       "  'address': '1KtGxkMBCr6Xzpb4Pz91PhWisUtFyvbsm3',\n",
       "  'privkey': 'KxDvEgBbWeRrP5YP9FCkYG6txWr4tPu9UmCmwTQEzRLjyvhuXWne',\n",
       "  'pubkey': '036c0a37bb564703ec4ccb81df9f8d67d257ed294a68ec5c8b5cc8656f821820a6'},\n",
       " {'path': \"m/44'/0'/0'/0/8\",\n",
       "  'address': '13iaFHGnPyW4tFeE68bgummxqZYXWtiutA',\n",
       "  'privkey': 'KyXVvGwDE2ZRNmabx7Z7op8xyoNQDygYzGBZQVnZixMUva3DTirp',\n",
       "  'pubkey': '02ca5bf1922de8bdbf4f88480fa8260b404f1d9698a55132b33efef80e5a6e8838'},\n",
       " {'path': \"m/44'/0'/0'/0/9\",\n",
       "  'address': '18r3uGXFtJz5rehJy6FKjnUS6CL7ArNXB7',\n",
       "  'privkey': 'KxBvr9m2Lik8Mvgx6pCi45MtEZSMLNXUmgVUCvbEQH5mVCo2fWPp',\n",
       "  'pubkey': '0228515a6517886c88b4342cd575f2759af8f475262a288d67f3152a92c77fb023'}]"
      ]
     },
     "execution_count": 9,
     "metadata": {},
     "output_type": "execute_result"
    }
   ],
   "source": [
    "command = f'php ./derive -g --mnemonic=\"{m_key}\" --coin=\"btc\" --numderive=10 --cols=path,address,privkey,pubkey --format=json'\n",
    "p = subprocess.Popen(command, stdout=subprocess.PIPE, shell=True)\n",
    "(output, err) = p.communicate()\n",
    "p_status = p.wait()\n",
    "keys = json.loads(output)\n",
    "keys"
   ]
  },
  {
   "cell_type": "code",
   "execution_count": 10,
   "metadata": {},
   "outputs": [
    {
     "data": {
      "text/plain": [
       "'btc-test'"
      ]
     },
     "execution_count": 10,
     "metadata": {},
     "output_type": "execute_result"
    }
   ],
   "source": [
    "BTCTEST"
   ]
  },
  {
   "cell_type": "code",
   "execution_count": 11,
   "metadata": {},
   "outputs": [],
   "source": [
    "def derive_wallet(m_key, coin, numderive):\n",
    "    command = f'php ./derive -g --mnemonic=\"{m_key}\" --coin=\"{coin}\" --numderive={numderive} --cols=address,index,path,privkey,pubkey,pubkeyhash,xprv,xpub --format=json'\n",
    "    p = subprocess.Popen(command, stdout=subprocess.PIPE, shell=True)\n",
    "    (output, err) = p.communicate()\n",
    "    p_status = p.wait()\n",
    "    keys = json.loads(output)\n",
    "    return keys"
   ]
  },
  {
   "cell_type": "code",
   "execution_count": 12,
   "metadata": {},
   "outputs": [
    {
     "data": {
      "text/plain": [
       "[{'address': '1H9WSzsWVF458QH1HK9PgTKPYcmh2SmL6G',\n",
       "  'index': 0,\n",
       "  'path': \"m/44'/0'/0'/0/0\",\n",
       "  'privkey': 'L2oiQ5w6Y6Hn1fesWQYtY1w7UQTyQT7EwRMsxohb7bLk1j3h3399',\n",
       "  'pubkey': '0328c1d4d6f9ea1027d7a0ee8b42a6af2b40a7b8e6e55170e71034a41218a8e131',\n",
       "  'pubkeyhash': 'b11dec2173d40fa043a1df8354c6474c6c9edf85',\n",
       "  'xprv': 'xprvA4HnosDogWc342us6qgGnLUNwwvbeTsj4HTVAt5YqmefA2GwKyoLpyjMLR72P7vkoKmD2UnoLgtU5DYeCFwYbTaocLCh6hQi4YZPE7zrw5P',\n",
       "  'xpub': 'xpub6HH9DNkhWtALGWzLCsDH9UR7Vym63vbaRWP5yGVAQ7Be2pc5sX7bNn3qBh85UaqqZhCcWnrm6fBeY2QojFvXLWpfYkJN4BErWZboSKWW7Z7'},\n",
       " {'address': '17n5sNVdhmgkeGBTKbRHecp2aXMT1xMdc3',\n",
       "  'index': 1,\n",
       "  'path': \"m/44'/0'/0'/0/1\",\n",
       "  'privkey': 'L1eVc1gtvqvb7qR1k7xzpmTVPDabY4KxdrkkUpnSj56WmCBnWWSb',\n",
       "  'pubkey': '0387c1121ae8015256a107388e747ecbaa3ef6dca9b5416f4d88d5a3c9c3c38106',\n",
       "  'pubkeyhash': '4a578976b3b2a51e0b6b61f19acf7709fd73297b',\n",
       "  'xprv': 'xprvA4HnosDogWc35y75d9148RjKbmFonVvBLUzydgq2wUNSSQ9u1icA6dq9i6YJsAwZgp4C6V3faGryxueB4uPsUuzoyMZptrj4ibGKYbysAEs',\n",
       "  'xpub': 'xpub6HH9DNkhWtALJTBYjAY4VZg49o6JBxe2hhvaS5EeVouRKCV3ZFvQeS9dZPYRrPCRMJJ2Us3Z4YfLsVjtQEyGoFBrgdhN71F1pYYpV6fHTFS'},\n",
       " {'address': '1CKUQcSKXKJ6tsL8xmcBVQJQbUpXXBgCmT',\n",
       "  'index': 2,\n",
       "  'path': \"m/44'/0'/0'/0/2\",\n",
       "  'privkey': 'L2o7M9rogBpuxhURADd9tVmSzFH7dMyBcd7ufMgfso6CYjo7Pz8N',\n",
       "  'pubkey': '021c9e57a5f7988e72768eb5151eb1cbb8d25b4f8dacffd90c75817804074c72c9',\n",
       "  'pubkeyhash': '7c27bfccac731b15154c9e7d718d38136c74e718',\n",
       "  'xprv': 'xprvA4HnosDogWc39CDG5m3EdhxkSfpeoyAVJ9dzKNn3R7YozBAeNukTq7y9ZNGQhVDrxtzjc9wvv1Atf7Kbmo7PLEKYJNAkk3hmZfhWySarEc2',\n",
       "  'xpub': 'xpub6HH9DNkhWtALMgHjBnaEzquUzhf9DRtLfNZb7mBeyT5nryVnvT4iNvHdQcFWVY5Kh5EqZTWcLHzzJr4w9uT8GAE8LGfaXnE9k7CFkU3b8kp'}]"
      ]
     },
     "execution_count": 12,
     "metadata": {},
     "output_type": "execute_result"
    }
   ],
   "source": [
    "derive_wallet(m_key, \"btc\", 3)"
   ]
  },
  {
   "cell_type": "code",
   "execution_count": 13,
   "metadata": {},
   "outputs": [
    {
     "data": {
      "text/plain": [
       "[{'address': 'n3rgNu531dufS5ZJTxqe7qCXkei9Tz67d1',\n",
       "  'index': 0,\n",
       "  'path': \"m/44'/1'/0'/0/0\",\n",
       "  'privkey': 'cRwYahCeDrdoztBGGjqSb1Xqz1z5BnLVC1dcDeoxRJtPWE3bSuYn',\n",
       "  'pubkey': '03eef1e8ecf7391b7dd8363291f189af20ec466e8173d1f5b8b7d345f04cbf8b78',\n",
       "  'pubkeyhash': 'f50dccd1c8c4f268defaefe36001c0354c19154a',\n",
       "  'xprv': 'tprv8kSZcwQp5UJw2emRFKrKshzY2zcfJMehpv32kW9nwDex34kPvZdEVejqwzJSpWjQqYqcDtnNCRyj65u8yRTP3117fCKS4Jzr2HfPLLzNWDn',\n",
       "  'xpub': 'tpubDH8bmMT4Dqzbv7oD8yWvH7eec28bTgqcQDdp32C6MVTLsZ1AYxSpg9Mi8A22xmbnGJkYdQzPznV2MGvnLyrocC4DHpcGmMsgueGShrRzJXt'},\n",
       " {'address': 'mncidDW2rpzMmVbbgDpDuDEPsrHn8WxEXi',\n",
       "  'index': 1,\n",
       "  'path': \"m/44'/1'/0'/0/1\",\n",
       "  'privkey': 'cNAgE8LfDpC6Fek1vFVuWQkKxGhapDa4ubaGVWLr1tKqNtx5NQWy',\n",
       "  'pubkey': '031e22cd64280ba6c1b411019b099440e07f551bac49954830f2a26438db56b3f3',\n",
       "  'pubkeyhash': '4ddff726e2f84a3d65f5d7a0af6e774e4585c176',\n",
       "  'xprv': 'tprv8kSZcwQp5UJw2oYqeMhjviCrUXjJQynKdLSLpdJCktW7saU6ZXAzWvm6nngTczPyexyP21weNo1dtDA9asEHZaoq79LvhTpczzsYQLQ4eCq',\n",
       "  'xpub': 'tpubDH8bmMT4DqzbvGadY1NLL7ry3ZFEaJyECe3879LWBAJWi4isBuzahRNxxwfg5jPTMxkbH9DgZ6f2tGeBQCwHjbuHX5pwuezWcKpsLB1ZsbV'},\n",
       " {'address': 'muBt7f7KCidjW3ETettvB3AzF1GhvaQ3H1',\n",
       "  'index': 2,\n",
       "  'path': \"m/44'/1'/0'/0/2\",\n",
       "  'privkey': 'cNiNxyJN6zvSxfqAFzxgK1WLqbJvK5eA4k5QfwxuB1Q4133MDFHh',\n",
       "  'pubkey': '02cbc457c011acf5cadd1bda4639d28b40682aee0f7be7b0fa93fdf26dd30b67e7',\n",
       "  'pubkeyhash': '95f65e79835a10ae25c828f5b92cc411ad781154',\n",
       "  'xprv': 'tprv8kSZcwQp5UJw73Qc8uf394DkzisgYbiu2MMCfJU4DtyscpFfGKUfeWhuMLpyQKXyeXiCKhDgTJbzTWkiaw8F687WcC6q5GVjmYD7JEXr5s9',\n",
       "  'xpub': 'tpubDH8bmMT4DqzbzWSQ2ZKdYTssZkPchvuobewywpWMeAnGTJWRtiJFq1KmXV4jGb9u6Amqxxt8NxAEtNJyB6VvWfePkLxQ1FDUnMuH55Lpubx'}]"
      ]
     },
     "execution_count": 13,
     "metadata": {},
     "output_type": "execute_result"
    }
   ],
   "source": [
    "derive_wallet(m_key, \"btc-test\", 3)"
   ]
  },
  {
   "cell_type": "code",
   "execution_count": 14,
   "metadata": {},
   "outputs": [
    {
     "data": {
      "text/plain": [
       "[{'address': '0x5DCC96c793cC62fBE8488985C8e7b5581EEF398B',\n",
       "  'index': 0,\n",
       "  'path': \"m/44'/60'/0'/0/0\",\n",
       "  'privkey': '0xadd9a56859c2e68b03c0848feb4c92816ba3b1677a52228df4d0749b1e31a715',\n",
       "  'pubkey': '0294b03077bbd16bb740c5c12937924e43aaea6cd0afa276e5ef31dc025b9bbf60',\n",
       "  'pubkeyhash': 'b23d7e3b2033f051864c1e04d5a17805822274cf',\n",
       "  'xprv': 'xprvA31hHYo4usP4do77zEQrdUQ1bUdjvMRRn6KSouk1PXcXni3ATGweXPX8v3HJaMrFtDoySLvya8rnmYWBQFkkpjy1gqZhmtrwGiEcRVN6wV5',\n",
       "  'xpub': 'xpub6G13h4KxkEwMrHBb6FwrzcLk9WUEKp9H9KF3cJ9cws9WfWNJzpFu5BqcmJ7zHmtz275eqHw2e45tiXuRCz8mpdzoFzC42Bfjgw4FbtMgvR6'},\n",
       " {'address': '0x47e90B191a7b9bD4Ba21a67Be6B4d82bA376d167',\n",
       "  'index': 1,\n",
       "  'path': \"m/44'/60'/0'/0/1\",\n",
       "  'privkey': '0xea7c0443ba2b84a50cae642b950d093876ada19675bd15903b62d0ae9269558d',\n",
       "  'pubkey': '031a7d0af85fb1210002368ba80461227ccd7cc826442f2495d5f9f6e794074de8',\n",
       "  'pubkeyhash': 'ae845f75004312bc4a27866f3340deb9eba32f23',\n",
       "  'xprv': 'xprvA31hHYo4usP4hPfDwMtoJQqQaeyrmqHPCHP1W5HWvY9cG1fTG74AQShvEj2KjFMVxihS5DiVZ4FuLFDT1t64CL17cKPFXTpvwXTRip8Bga2',\n",
       "  'xpub': 'xpub6G13h4KxkEwMusjh3PRofYn98gpMBJ1EZWJcJTh8Usgb8ozboeNQxF2Q5zRENNNd3davWaifEgB9YR4pqv4BS8ycYYUfhATwxzZ6KAF6f7a'},\n",
       " {'address': '0xD6a8A96cFF53764A59ba31843cF1Ff285708137f',\n",
       "  'index': 2,\n",
       "  'path': \"m/44'/60'/0'/0/2\",\n",
       "  'privkey': '0x431cd64728cdc84c6e6d35d85213b357e0766a820dd17d961bd61373bc15b7b2',\n",
       "  'pubkey': '0202b19f5dce374e22470413bfdc5f22523029474ecb31cd26dff6e51539e75337',\n",
       "  'pubkeyhash': '64620f1517507164511befcee12361af7a612674',\n",
       "  'xprv': 'xprvA31hHYo4usP4jZMFsCKhxoJeSUAGxWSsamZ6qxiPjKUGVY4GbbYcZ543pY55TEFkD66VcBP9sBCFcKq8Cf93mw1v2hJaCu5wULSq2mL9Xu5',\n",
       "  'xpub': 'xpub6G13h4KxkEwMx3RiyDriKwFNzVzmMyAiwzUheM81Hf1FNLPR98rs6sNXfncUQLMq8vQiFzz93SQDpnTc7uJcpY3AzyQGJ6GFF6W6Aj2k2zE'}]"
      ]
     },
     "execution_count": 14,
     "metadata": {},
     "output_type": "execute_result"
    }
   ],
   "source": [
    "derive_wallet(m_key, \"eth\", 3)"
   ]
  },
  {
   "cell_type": "code",
   "execution_count": 15,
   "metadata": {},
   "outputs": [],
   "source": [
    "coins = {\"btc\", \"btc-test\", \"eth\"}\n",
    "keys = {}\n",
    "\n",
    "for coin in coins:\n",
    "    keys[coin] = derive_wallet(m_key, coin, 3)"
   ]
  },
  {
   "cell_type": "code",
   "execution_count": 16,
   "metadata": {},
   "outputs": [],
   "source": [
    "eth_pvt_key = keys[\"eth\"][0]['privkey']\n",
    "btc_pvt_key = keys[\"btc\"][0]['privkey']"
   ]
  },
  {
   "cell_type": "code",
   "execution_count": 17,
   "metadata": {},
   "outputs": [
    {
     "name": "stdout",
     "output_type": "stream",
     "text": [
      "\"0xadd9a56859c2e68b03c0848feb4c92816ba3b1677a52228df4d0749b1e31a715\"\n",
      "\"L2oiQ5w6Y6Hn1fesWQYtY1w7UQTyQT7EwRMsxohb7bLk1j3h3399\"\n"
     ]
    }
   ],
   "source": [
    "print(json.dumps(eth_pvt_key, indent=4, sort_keys=True))\n",
    "print(json.dumps(btc_pvt_key, indent=4, sort_keys=True))"
   ]
  },
  {
   "cell_type": "code",
   "execution_count": 18,
   "metadata": {},
   "outputs": [
    {
     "name": "stdout",
     "output_type": "stream",
     "text": [
      "{\n",
      "    \"btc\": [\n",
      "        {\n",
      "            \"address\": \"1H9WSzsWVF458QH1HK9PgTKPYcmh2SmL6G\",\n",
      "            \"index\": 0,\n",
      "            \"path\": \"m/44'/0'/0'/0/0\",\n",
      "            \"privkey\": \"L2oiQ5w6Y6Hn1fesWQYtY1w7UQTyQT7EwRMsxohb7bLk1j3h3399\",\n",
      "            \"pubkey\": \"0328c1d4d6f9ea1027d7a0ee8b42a6af2b40a7b8e6e55170e71034a41218a8e131\",\n",
      "            \"pubkeyhash\": \"b11dec2173d40fa043a1df8354c6474c6c9edf85\",\n",
      "            \"xprv\": \"xprvA4HnosDogWc342us6qgGnLUNwwvbeTsj4HTVAt5YqmefA2GwKyoLpyjMLR72P7vkoKmD2UnoLgtU5DYeCFwYbTaocLCh6hQi4YZPE7zrw5P\",\n",
      "            \"xpub\": \"xpub6HH9DNkhWtALGWzLCsDH9UR7Vym63vbaRWP5yGVAQ7Be2pc5sX7bNn3qBh85UaqqZhCcWnrm6fBeY2QojFvXLWpfYkJN4BErWZboSKWW7Z7\"\n",
      "        },\n",
      "        {\n",
      "            \"address\": \"17n5sNVdhmgkeGBTKbRHecp2aXMT1xMdc3\",\n",
      "            \"index\": 1,\n",
      "            \"path\": \"m/44'/0'/0'/0/1\",\n",
      "            \"privkey\": \"L1eVc1gtvqvb7qR1k7xzpmTVPDabY4KxdrkkUpnSj56WmCBnWWSb\",\n",
      "            \"pubkey\": \"0387c1121ae8015256a107388e747ecbaa3ef6dca9b5416f4d88d5a3c9c3c38106\",\n",
      "            \"pubkeyhash\": \"4a578976b3b2a51e0b6b61f19acf7709fd73297b\",\n",
      "            \"xprv\": \"xprvA4HnosDogWc35y75d9148RjKbmFonVvBLUzydgq2wUNSSQ9u1icA6dq9i6YJsAwZgp4C6V3faGryxueB4uPsUuzoyMZptrj4ibGKYbysAEs\",\n",
      "            \"xpub\": \"xpub6HH9DNkhWtALJTBYjAY4VZg49o6JBxe2hhvaS5EeVouRKCV3ZFvQeS9dZPYRrPCRMJJ2Us3Z4YfLsVjtQEyGoFBrgdhN71F1pYYpV6fHTFS\"\n",
      "        },\n",
      "        {\n",
      "            \"address\": \"1CKUQcSKXKJ6tsL8xmcBVQJQbUpXXBgCmT\",\n",
      "            \"index\": 2,\n",
      "            \"path\": \"m/44'/0'/0'/0/2\",\n",
      "            \"privkey\": \"L2o7M9rogBpuxhURADd9tVmSzFH7dMyBcd7ufMgfso6CYjo7Pz8N\",\n",
      "            \"pubkey\": \"021c9e57a5f7988e72768eb5151eb1cbb8d25b4f8dacffd90c75817804074c72c9\",\n",
      "            \"pubkeyhash\": \"7c27bfccac731b15154c9e7d718d38136c74e718\",\n",
      "            \"xprv\": \"xprvA4HnosDogWc39CDG5m3EdhxkSfpeoyAVJ9dzKNn3R7YozBAeNukTq7y9ZNGQhVDrxtzjc9wvv1Atf7Kbmo7PLEKYJNAkk3hmZfhWySarEc2\",\n",
      "            \"xpub\": \"xpub6HH9DNkhWtALMgHjBnaEzquUzhf9DRtLfNZb7mBeyT5nryVnvT4iNvHdQcFWVY5Kh5EqZTWcLHzzJr4w9uT8GAE8LGfaXnE9k7CFkU3b8kp\"\n",
      "        }\n",
      "    ],\n",
      "    \"btc-test\": [\n",
      "        {\n",
      "            \"address\": \"n3rgNu531dufS5ZJTxqe7qCXkei9Tz67d1\",\n",
      "            \"index\": 0,\n",
      "            \"path\": \"m/44'/1'/0'/0/0\",\n",
      "            \"privkey\": \"cRwYahCeDrdoztBGGjqSb1Xqz1z5BnLVC1dcDeoxRJtPWE3bSuYn\",\n",
      "            \"pubkey\": \"03eef1e8ecf7391b7dd8363291f189af20ec466e8173d1f5b8b7d345f04cbf8b78\",\n",
      "            \"pubkeyhash\": \"f50dccd1c8c4f268defaefe36001c0354c19154a\",\n",
      "            \"xprv\": \"tprv8kSZcwQp5UJw2emRFKrKshzY2zcfJMehpv32kW9nwDex34kPvZdEVejqwzJSpWjQqYqcDtnNCRyj65u8yRTP3117fCKS4Jzr2HfPLLzNWDn\",\n",
      "            \"xpub\": \"tpubDH8bmMT4Dqzbv7oD8yWvH7eec28bTgqcQDdp32C6MVTLsZ1AYxSpg9Mi8A22xmbnGJkYdQzPznV2MGvnLyrocC4DHpcGmMsgueGShrRzJXt\"\n",
      "        },\n",
      "        {\n",
      "            \"address\": \"mncidDW2rpzMmVbbgDpDuDEPsrHn8WxEXi\",\n",
      "            \"index\": 1,\n",
      "            \"path\": \"m/44'/1'/0'/0/1\",\n",
      "            \"privkey\": \"cNAgE8LfDpC6Fek1vFVuWQkKxGhapDa4ubaGVWLr1tKqNtx5NQWy\",\n",
      "            \"pubkey\": \"031e22cd64280ba6c1b411019b099440e07f551bac49954830f2a26438db56b3f3\",\n",
      "            \"pubkeyhash\": \"4ddff726e2f84a3d65f5d7a0af6e774e4585c176\",\n",
      "            \"xprv\": \"tprv8kSZcwQp5UJw2oYqeMhjviCrUXjJQynKdLSLpdJCktW7saU6ZXAzWvm6nngTczPyexyP21weNo1dtDA9asEHZaoq79LvhTpczzsYQLQ4eCq\",\n",
      "            \"xpub\": \"tpubDH8bmMT4DqzbvGadY1NLL7ry3ZFEaJyECe3879LWBAJWi4isBuzahRNxxwfg5jPTMxkbH9DgZ6f2tGeBQCwHjbuHX5pwuezWcKpsLB1ZsbV\"\n",
      "        },\n",
      "        {\n",
      "            \"address\": \"muBt7f7KCidjW3ETettvB3AzF1GhvaQ3H1\",\n",
      "            \"index\": 2,\n",
      "            \"path\": \"m/44'/1'/0'/0/2\",\n",
      "            \"privkey\": \"cNiNxyJN6zvSxfqAFzxgK1WLqbJvK5eA4k5QfwxuB1Q4133MDFHh\",\n",
      "            \"pubkey\": \"02cbc457c011acf5cadd1bda4639d28b40682aee0f7be7b0fa93fdf26dd30b67e7\",\n",
      "            \"pubkeyhash\": \"95f65e79835a10ae25c828f5b92cc411ad781154\",\n",
      "            \"xprv\": \"tprv8kSZcwQp5UJw73Qc8uf394DkzisgYbiu2MMCfJU4DtyscpFfGKUfeWhuMLpyQKXyeXiCKhDgTJbzTWkiaw8F687WcC6q5GVjmYD7JEXr5s9\",\n",
      "            \"xpub\": \"tpubDH8bmMT4DqzbzWSQ2ZKdYTssZkPchvuobewywpWMeAnGTJWRtiJFq1KmXV4jGb9u6Amqxxt8NxAEtNJyB6VvWfePkLxQ1FDUnMuH55Lpubx\"\n",
      "        }\n",
      "    ],\n",
      "    \"eth\": [\n",
      "        {\n",
      "            \"address\": \"0x5DCC96c793cC62fBE8488985C8e7b5581EEF398B\",\n",
      "            \"index\": 0,\n",
      "            \"path\": \"m/44'/60'/0'/0/0\",\n",
      "            \"privkey\": \"0xadd9a56859c2e68b03c0848feb4c92816ba3b1677a52228df4d0749b1e31a715\",\n",
      "            \"pubkey\": \"0294b03077bbd16bb740c5c12937924e43aaea6cd0afa276e5ef31dc025b9bbf60\",\n",
      "            \"pubkeyhash\": \"b23d7e3b2033f051864c1e04d5a17805822274cf\",\n",
      "            \"xprv\": \"xprvA31hHYo4usP4do77zEQrdUQ1bUdjvMRRn6KSouk1PXcXni3ATGweXPX8v3HJaMrFtDoySLvya8rnmYWBQFkkpjy1gqZhmtrwGiEcRVN6wV5\",\n",
      "            \"xpub\": \"xpub6G13h4KxkEwMrHBb6FwrzcLk9WUEKp9H9KF3cJ9cws9WfWNJzpFu5BqcmJ7zHmtz275eqHw2e45tiXuRCz8mpdzoFzC42Bfjgw4FbtMgvR6\"\n",
      "        },\n",
      "        {\n",
      "            \"address\": \"0x47e90B191a7b9bD4Ba21a67Be6B4d82bA376d167\",\n",
      "            \"index\": 1,\n",
      "            \"path\": \"m/44'/60'/0'/0/1\",\n",
      "            \"privkey\": \"0xea7c0443ba2b84a50cae642b950d093876ada19675bd15903b62d0ae9269558d\",\n",
      "            \"pubkey\": \"031a7d0af85fb1210002368ba80461227ccd7cc826442f2495d5f9f6e794074de8\",\n",
      "            \"pubkeyhash\": \"ae845f75004312bc4a27866f3340deb9eba32f23\",\n",
      "            \"xprv\": \"xprvA31hHYo4usP4hPfDwMtoJQqQaeyrmqHPCHP1W5HWvY9cG1fTG74AQShvEj2KjFMVxihS5DiVZ4FuLFDT1t64CL17cKPFXTpvwXTRip8Bga2\",\n",
      "            \"xpub\": \"xpub6G13h4KxkEwMusjh3PRofYn98gpMBJ1EZWJcJTh8Usgb8ozboeNQxF2Q5zRENNNd3davWaifEgB9YR4pqv4BS8ycYYUfhATwxzZ6KAF6f7a\"\n",
      "        },\n",
      "        {\n",
      "            \"address\": \"0xD6a8A96cFF53764A59ba31843cF1Ff285708137f\",\n",
      "            \"index\": 2,\n",
      "            \"path\": \"m/44'/60'/0'/0/2\",\n",
      "            \"privkey\": \"0x431cd64728cdc84c6e6d35d85213b357e0766a820dd17d961bd61373bc15b7b2\",\n",
      "            \"pubkey\": \"0202b19f5dce374e22470413bfdc5f22523029474ecb31cd26dff6e51539e75337\",\n",
      "            \"pubkeyhash\": \"64620f1517507164511befcee12361af7a612674\",\n",
      "            \"xprv\": \"xprvA31hHYo4usP4jZMFsCKhxoJeSUAGxWSsamZ6qxiPjKUGVY4GbbYcZ543pY55TEFkD66VcBP9sBCFcKq8Cf93mw1v2hJaCu5wULSq2mL9Xu5\",\n",
      "            \"xpub\": \"xpub6G13h4KxkEwMx3RiyDriKwFNzVzmMyAiwzUheM81Hf1FNLPR98rs6sNXfncUQLMq8vQiFzz93SQDpnTc7uJcpY3AzyQGJ6GFF6W6Aj2k2zE\"\n",
      "        }\n",
      "    ]\n",
      "}\n"
     ]
    }
   ],
   "source": [
    "print(json.dumps(keys, indent=4, sort_keys=True))"
   ]
  },
  {
   "cell_type": "markdown",
   "metadata": {},
   "source": [
    "##### priv_key_to_account -- this will convert the privkey string in a child key to an account object that bit or web3.py can use to transact. Parameters: coin defined in constants.py, priv_key"
   ]
  },
  {
   "cell_type": "code",
   "execution_count": 19,
   "metadata": {},
   "outputs": [],
   "source": [
    "def priv_key_to_account(coin, priv_key):\n",
    "    print(coin)\n",
    "    print(priv_key)\n",
    "    if coin == ETH:\n",
    "        return Account.privateKeyToAccount(priv_key)\n",
    "    elif coin == BTCTEST:\n",
    "        return PrivateKeyTestnet(priv_key)  "
   ]
  },
  {
   "cell_type": "markdown",
   "metadata": {},
   "source": [
    "##### create_tx -- this will create the raw, unsigned transaction that contains all metadata needed to transact. Parameters: coin, account, to, amount"
   ]
  },
  {
   "cell_type": "code",
   "execution_count": 20,
   "metadata": {},
   "outputs": [],
   "source": [
    "def create_tx(coin,account, recipient, amount):\n",
    "    if coin == 'eth': \n",
    "        gasEstimate = w3.eth.estimateGas(\n",
    "            {\"from\":eth_acc.address, \"to\":recipient, \"value\": amount}\n",
    "        )\n",
    "        return { \n",
    "            \"from\": eth_acc.address,\n",
    "            \"to\": recipient,\n",
    "            \"value\": amount,\n",
    "            \"gasPrice\": w3.eth.gasPrice,\n",
    "            \"gas\": gasEstimate,\n",
    "            \"nonce\": w3.eth.getTransactionCount(eth_acc.address)\n",
    "        }\n",
    "    \n",
    "    elif coin == 'btc-test':\n",
    "        return PrivateKeyTestnet.prepare_transaction(account.address, [(recipient, amount, BTC)])"
   ]
  },
  {
   "cell_type": "code",
   "execution_count": 21,
   "metadata": {},
   "outputs": [
    {
     "name": "stdout",
     "output_type": "stream",
     "text": [
      "eth\n",
      "0xadd9a56859c2e68b03c0848feb4c92816ba3b1677a52228df4d0749b1e31a715\n"
     ]
    }
   ],
   "source": [
    "eth_acc = priv_key_to_account(ETH, derive_wallet(m_key, ETH,3)[0]['privkey'])"
   ]
  },
  {
   "cell_type": "markdown",
   "metadata": {},
   "source": [
    "##### send_tx -- this will call create_tx, sign the transaction, then send it to the designated network. Parameters: coin, account, to, amount"
   ]
  },
  {
   "cell_type": "code",
   "execution_count": 22,
   "metadata": {},
   "outputs": [],
   "source": [
    "def send_txn(coin,account,recipient, amount):\n",
    "    txn = create_tx(coin, account, recipient, amount)\n",
    "    if coin == ETH:\n",
    "        signed_txn = eth_acc.sign_transaction(txn)\n",
    "        result = w3.eth.sendRawTransaction(signed_txn.rawTransaction)\n",
    "        print(result.hex())\n",
    "        return result.hex()\n",
    "    elif coin == BTCTEST:\n",
    "        tx_btctest = create_tx(coin, account, recipient, amount)\n",
    "        signed_txn = account.sign_transaction(txn)\n",
    "        print(signed_txn)\n",
    "        return NetworkAPI.broadcast_tx_testnet(signed_txn)"
   ]
  },
  {
   "cell_type": "code",
   "execution_count": 23,
   "metadata": {},
   "outputs": [
    {
     "name": "stdout",
     "output_type": "stream",
     "text": [
      "btc-test\n",
      "L2oiQ5w6Y6Hn1fesWQYtY1w7UQTyQT7EwRMsxohb7bLk1j3h3399\n"
     ]
    }
   ],
   "source": [
    "btc_acc = priv_key_to_account(BTCTEST,btc_pvt_key)"
   ]
  },
  {
   "cell_type": "code",
   "execution_count": 24,
   "metadata": {},
   "outputs": [],
   "source": [
    "# Create txn for BTC using address: 1H9WSzsWVF458QH1HK9PgTKPYcmh2SmL6G\n",
    "#key.create_transaction(outputs,unspents=key.get_unspents())\n",
    "#key.send(outputs,unspents=key.get_unspents())\n",
    "#create_tx(BTCTEST,btc_acc,\"n3rgNu531dufS5ZJTxqe7qCXkei9Tz67d1\", 0.1)\n"
   ]
  },
  {
   "cell_type": "code",
   "execution_count": 26,
   "metadata": {},
   "outputs": [],
   "source": [
    "# send BTC test txn\n",
    "#send_txn(BTCTEST,btc_acc,\"mncidDW2rpzMmVbbgDpDuDEPsrHn8WxEXi\", 0.1)"
   ]
  },
  {
   "cell_type": "code",
   "execution_count": null,
   "metadata": {},
   "outputs": [],
   "source": [
    "# Check balances\n",
    "w3.eth.getBalance(\"0x5DCC96c793cC62fBE8488985C8e7b5581EEF398B\")"
   ]
  },
  {
   "cell_type": "code",
   "execution_count": null,
   "metadata": {},
   "outputs": [],
   "source": [
    "create_tx(ETH,eth_acc,\"0x47e90B191a7b9bD4Ba21a67Be6B4d82bA376d167\", 1000)"
   ]
  },
  {
   "cell_type": "code",
   "execution_count": null,
   "metadata": {},
   "outputs": [],
   "source": [
    "send_txn(ETH, eth_acc,\"0xD6a8A96cFF53764A59ba31843cF1Ff285708137f\", 1000)"
   ]
  },
  {
   "cell_type": "code",
   "execution_count": null,
   "metadata": {},
   "outputs": [],
   "source": [
    "# Confirm\n",
    "w3.eth.getBalance(\"0xD6a8A96cFF53764A59ba31843cF1Ff285708137f\")"
   ]
  },
  {
   "cell_type": "code",
   "execution_count": null,
   "metadata": {},
   "outputs": [],
   "source": []
  }
 ],
 "metadata": {
  "kernelspec": {
   "display_name": "Python 3",
   "language": "python",
   "name": "python3"
  },
  "language_info": {
   "codemirror_mode": {
    "name": "ipython",
    "version": 3
   },
   "file_extension": ".py",
   "mimetype": "text/x-python",
   "name": "python",
   "nbconvert_exporter": "python",
   "pygments_lexer": "ipython3",
   "version": "3.7.7"
  }
 },
 "nbformat": 4,
 "nbformat_minor": 4
}
