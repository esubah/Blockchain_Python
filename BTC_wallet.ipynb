{
 "cells": [
  {
   "cell_type": "code",
   "execution_count": 1,
   "metadata": {},
   "outputs": [
    {
     "data": {
      "text/plain": [
       "True"
      ]
     },
     "execution_count": 1,
     "metadata": {},
     "output_type": "execute_result"
    }
   ],
   "source": [
    "import json\n",
    "import subprocess\n",
    "from dotenv import load_dotenv\n",
    "import os\n",
    "\n",
    "load_dotenv()"
   ]
  },
  {
   "cell_type": "code",
   "execution_count": 2,
   "metadata": {},
   "outputs": [],
   "source": [
    "# mac users do this\n",
    "# command = './derive -g --mnemonic=\"im --cols=path,address,privkey,pubkey --format=json'"
   ]
  },
  {
   "cell_type": "code",
   "execution_count": 3,
   "metadata": {},
   "outputs": [],
   "source": [
    "m_key = os.getenv(\"mnemonic_key\")"
   ]
  },
  {
   "cell_type": "code",
   "execution_count": 4,
   "metadata": {},
   "outputs": [
    {
     "name": "stdout",
     "output_type": "stream",
     "text": [
      "liquid behind install despair party orange response caution digital ten hedgehog rich\n"
     ]
    }
   ],
   "source": [
    "print(m_key)"
   ]
  },
  {
   "cell_type": "code",
   "execution_count": 5,
   "metadata": {},
   "outputs": [
    {
     "data": {
      "text/plain": [
       "[{'path': \"m/44'/0'/0'/0/0\",\n",
       "  'address': '1H9WSzsWVF458QH1HK9PgTKPYcmh2SmL6G',\n",
       "  'privkey': 'L2oiQ5w6Y6Hn1fesWQYtY1w7UQTyQT7EwRMsxohb7bLk1j3h3399',\n",
       "  'pubkey': '0328c1d4d6f9ea1027d7a0ee8b42a6af2b40a7b8e6e55170e71034a41218a8e131'},\n",
       " {'path': \"m/44'/0'/0'/0/1\",\n",
       "  'address': '17n5sNVdhmgkeGBTKbRHecp2aXMT1xMdc3',\n",
       "  'privkey': 'L1eVc1gtvqvb7qR1k7xzpmTVPDabY4KxdrkkUpnSj56WmCBnWWSb',\n",
       "  'pubkey': '0387c1121ae8015256a107388e747ecbaa3ef6dca9b5416f4d88d5a3c9c3c38106'},\n",
       " {'path': \"m/44'/0'/0'/0/2\",\n",
       "  'address': '1CKUQcSKXKJ6tsL8xmcBVQJQbUpXXBgCmT',\n",
       "  'privkey': 'L2o7M9rogBpuxhURADd9tVmSzFH7dMyBcd7ufMgfso6CYjo7Pz8N',\n",
       "  'pubkey': '021c9e57a5f7988e72768eb5151eb1cbb8d25b4f8dacffd90c75817804074c72c9'},\n",
       " {'path': \"m/44'/0'/0'/0/3\",\n",
       "  'address': '1BS8bPRJ8N8MBFGXFrni6SoSAdkvVQLaH9',\n",
       "  'privkey': 'L44x5kvWWT8uwA7KduLC1WM3fHmkkyzSkomBGky3pdSwo8n94AYC',\n",
       "  'pubkey': '02d709e2036b1b65af40bba944762a876f608fd62897ad1f6491ad556979075b98'},\n",
       " {'path': \"m/44'/0'/0'/0/4\",\n",
       "  'address': '14B9ab9VrvoqecqqZBp6zxqzRB3uAEdQRA',\n",
       "  'privkey': 'L5cGWRgKkbYfc1QNPMw413rVoTxBKXJEzKXQcRQ2BKwiAAuozYmH',\n",
       "  'pubkey': '038994775d282587e7af61692e4c94a26aa1d0bd7fb36206db1d463083241bdb14'},\n",
       " {'path': \"m/44'/0'/0'/0/5\",\n",
       "  'address': '1EKuENukVSNjeaSkNWHYTX8rjbHMj7tjV9',\n",
       "  'privkey': 'L1Ty8HiKUsMYStwgc1HpuEgExVV3Zg99vysnpkw5V3sUZH2BcfwF',\n",
       "  'pubkey': '03618719693e57f0e13529cf4a069eb48098317123cfb26709382dec4766548951'},\n",
       " {'path': \"m/44'/0'/0'/0/6\",\n",
       "  'address': '1P4qTYfWR5pBcgRmdagnA7UKfVJEZZ4C1k',\n",
       "  'privkey': 'KwW2J1SVLvPiMX1yo7ihyFX64xq28EwEc1JF54Ngvw14vUs8swe8',\n",
       "  'pubkey': '0265d1ac86c6421544746dd1e6463dea983509b7bc73e06c6f9222cb155e616f14'},\n",
       " {'path': \"m/44'/0'/0'/0/7\",\n",
       "  'address': '1KtGxkMBCr6Xzpb4Pz91PhWisUtFyvbsm3',\n",
       "  'privkey': 'KxDvEgBbWeRrP5YP9FCkYG6txWr4tPu9UmCmwTQEzRLjyvhuXWne',\n",
       "  'pubkey': '036c0a37bb564703ec4ccb81df9f8d67d257ed294a68ec5c8b5cc8656f821820a6'},\n",
       " {'path': \"m/44'/0'/0'/0/8\",\n",
       "  'address': '13iaFHGnPyW4tFeE68bgummxqZYXWtiutA',\n",
       "  'privkey': 'KyXVvGwDE2ZRNmabx7Z7op8xyoNQDygYzGBZQVnZixMUva3DTirp',\n",
       "  'pubkey': '02ca5bf1922de8bdbf4f88480fa8260b404f1d9698a55132b33efef80e5a6e8838'},\n",
       " {'path': \"m/44'/0'/0'/0/9\",\n",
       "  'address': '18r3uGXFtJz5rehJy6FKjnUS6CL7ArNXB7',\n",
       "  'privkey': 'KxBvr9m2Lik8Mvgx6pCi45MtEZSMLNXUmgVUCvbEQH5mVCo2fWPp',\n",
       "  'pubkey': '0228515a6517886c88b4342cd575f2759af8f475262a288d67f3152a92c77fb023'}]"
      ]
     },
     "execution_count": 5,
     "metadata": {},
     "output_type": "execute_result"
    }
   ],
   "source": [
    "# pc users do this\n",
    "command = f'php ./derive -g --mnemonic=\"{m_key}\" --cols=path,address,privkey,pubkey --format=json'\n",
    "p = subprocess.Popen(command, stdout=subprocess.PIPE, shell=True)\n",
    "(output, err) = p.communicate()\n",
    "p_status = p.wait()\n",
    "keys = json.loads(output)\n",
    "keys"
   ]
  },
  {
   "cell_type": "code",
   "execution_count": 8,
   "metadata": {},
   "outputs": [
    {
     "name": "stdout",
     "output_type": "stream",
     "text": [
      "1H9WSzsWVF458QH1HK9PgTKPYcmh2SmL6G\n"
     ]
    }
   ],
   "source": [
    "print(keys[0]['address'])"
   ]
  },
  {
   "cell_type": "code",
   "execution_count": 11,
   "metadata": {},
   "outputs": [
    {
     "data": {
      "text/plain": [
       "255"
      ]
     },
     "execution_count": 11,
     "metadata": {},
     "output_type": "execute_result"
    }
   ],
   "source": [
    "p_status"
   ]
  },
  {
   "cell_type": "code",
   "execution_count": 17,
   "metadata": {},
   "outputs": [
    {
     "name": "stdout",
     "output_type": "stream",
     "text": [
      "b\"\\nWarning: require_once(C:\\\\Users\\\\esuba\\\\wallet/vendor/autoload.php): failed to open stream: No such file or directory in C:\\\\Users\\\\esuba\\\\wallet\\\\derive on line 11\\n\\nFatal error: require_once(): Failed opening required 'C:\\\\Users\\\\esuba\\\\wallet/vendor/autoload.php' (include_path='C:\\\\xampp\\\\php\\\\PEAR') in C:\\\\Users\\\\esuba\\\\wallet\\\\derive on line 11\\n\"\n"
     ]
    }
   ],
   "source": [
    "print(output)"
   ]
  },
  {
   "cell_type": "code",
   "execution_count": null,
   "metadata": {},
   "outputs": [],
   "source": []
  }
 ],
 "metadata": {
  "kernelspec": {
   "display_name": "Python 3",
   "language": "python",
   "name": "python3"
  },
  "language_info": {
   "codemirror_mode": {
    "name": "ipython",
    "version": 3
   },
   "file_extension": ".py",
   "mimetype": "text/x-python",
   "name": "python",
   "nbconvert_exporter": "python",
   "pygments_lexer": "ipython3",
   "version": "3.7.7"
  }
 },
 "nbformat": 4,
 "nbformat_minor": 4
}
